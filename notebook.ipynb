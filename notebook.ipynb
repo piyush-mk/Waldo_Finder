{
 "cells": [
  {
   "cell_type": "code",
   "execution_count": 23,
   "metadata": {},
   "outputs": [],
   "source": [
    "import os\n",
    "import cv2\n",
    "import numpy as np\n",
    "import matplotlib.pyplot as plt\n",
    "from sklearn.model_selection import train_test_split\n",
    "from tensorflow.keras.applications.vgg16 import VGG16, preprocess_input\n",
    "from tensorflow.keras.models import Model\n",
    "from tensorflow.keras.layers import Dense, Dropout\n",
    "from tensorflow.keras.optimizers import Adam\n",
    "from tensorflow.keras.callbacks import EarlyStopping"
   ]
  },
  {
   "cell_type": "code",
   "execution_count": 24,
   "metadata": {},
   "outputs": [],
   "source": [
    "dataset_dir = 'Dataset/generated_images'\n",
    "original_dir = os.path.join(dataset_dir, 'original_350x500')\n",
    "resized_dir = os.path.join(dataset_dir, 'resized_224x224')\n",
    "characters_dir = os.path.join(dataset_dir, 'characters')"
   ]
  },
  {
   "cell_type": "code",
   "execution_count": 25,
   "metadata": {},
   "outputs": [
    {
     "name": "stderr",
     "output_type": "stream",
     "text": [
      "libpng warning: iCCP: known incorrect sRGB profile\n"
     ]
    }
   ],
   "source": [
    "waldo = cv2.imread(os.path.join(characters_dir, 'waldo.png'))\n",
    "wilma = cv2.imread(os.path.join(characters_dir, 'wilma.png'))"
   ]
  },
  {
   "cell_type": "code",
   "execution_count": 26,
   "metadata": {},
   "outputs": [],
   "source": [
    "waldo = cv2.cvtColor(waldo, cv2.COLOR_BGR2RGB)\n",
    "wilma = cv2.cvtColor(wilma, cv2.COLOR_BGR2RGB)\n",
    "waldo = cv2.resize(waldo, (224, 224))\n",
    "wilma = cv2.resize(wilma, (224, 224))\n",
    "waldo = preprocess_input(waldo)\n",
    "wilma = preprocess_input(wilma)"
   ]
  },
  {
   "cell_type": "code",
   "execution_count": 28,
   "metadata": {},
   "outputs": [],
   "source": [
    "X = []\n",
    "y = []\n",
    "for i in range(5000):\n",
    "    # Read in original image\n",
    "    img_orig = cv2.imread(os.path.join(original_dir, f'image_{i}.png'))\n",
    "    # Resize original image\n",
    "    img_resized = cv2.imread(os.path.join(resized_dir, f'resized_image_{i}.png'))\n",
    "    # Preprocess resized image\n",
    "    img_resized = cv2.cvtColor(img_resized, cv2.COLOR_BGR2RGB)\n",
    "    img_resized = preprocess_input(img_resized)\n",
    "    # Check if Waldo is present in the image\n",
    "    if np.sum(cv2.matchTemplate(img_orig.astype(np.float32), waldo.astype(np.float32), cv2.TM_CCOEFF_NORMED)) > 0.8:\n",
    "        X.append(img_resized)\n",
    "        y.append(0) # Waldo label\n",
    "    # Check if Wilma is present in the image\n",
    "    elif np.sum(cv2.matchTemplate(img_orig.astype(np.float32), wilma.astype(np.float32), cv2.TM_CCOEFF_NORMED)) > 0.8:\n",
    "        X.append(img_resized)\n",
    "        y.append(1) # Wilma label\n"
   ]
  },
  {
   "cell_type": "code",
   "execution_count": 29,
   "metadata": {},
   "outputs": [],
   "source": [
    "X = np.array(X)\n",
    "y = np.array(y)\n",
    "X_train, X_val, y_train, y_val = train_test_split(X, y, test_size=0.2, random_state=42)\n"
   ]
  },
  {
   "cell_type": "code",
   "execution_count": 30,
   "metadata": {},
   "outputs": [],
   "source": [
    "base_model = VGG16(weights='imagenet', include_top=False, input_shape=(224, 224, 3))"
   ]
  },
  {
   "cell_type": "code",
   "execution_count": 31,
   "metadata": {},
   "outputs": [],
   "source": [
    "for layer in base_model.layers:\n",
    "    layer.trainable = False"
   ]
  },
  {
   "cell_type": "code",
   "execution_count": 32,
   "metadata": {},
   "outputs": [],
   "source": [
    "x = base_model.output\n",
    "x = Dense(128, activation='relu')(x)\n",
    "x = Dropout(0.5)(x)\n",
    "x = Dense(1, activation='sigmoid')(x)"
   ]
  },
  {
   "cell_type": "code",
   "execution_count": 34,
   "metadata": {},
   "outputs": [],
   "source": [
    "model = Model(inputs=base_model.input, outputs=x)\n",
    "model.compile(optimizer=Adam(learning_rate=0.001), loss='binary_crossentropy', metrics=['accuracy'])"
   ]
  },
  {
   "cell_type": "code",
   "execution_count": 35,
   "metadata": {},
   "outputs": [],
   "source": [
    "early_stop = EarlyStopping(monitor='val_loss', patience=5, restore_best_weights=True)"
   ]
  },
  {
   "cell_type": "code",
   "execution_count": null,
   "metadata": {},
   "outputs": [
    {
     "ename": "",
     "evalue": "",
     "output_type": "error",
     "traceback": [
      "\u001b[1;31mCanceled future for execute_request message before replies were done"
     ]
    },
    {
     "ename": "",
     "evalue": "",
     "output_type": "error",
     "traceback": [
      "\u001b[1;31mThe Kernel crashed while executing code in the the current cell or a previous cell. Please review the code in the cell(s) to identify a possible cause of the failure. Click <a href='https://aka.ms/vscodeJupyterKernelCrash'>here</a> for more info. View Jupyter <a href='command:jupyter.viewOutput'>log</a> for further details."
     ]
    }
   ],
   "source": [
    "history = model.fit(X_train, y_train, batch_size=32, epochs=20, validation_data=(X_val, y_val), callbacks=[early_stop])\n",
    "\n",
    "# Evaluate the model on the validation set\n",
    "loss, accuracy = model.evaluate(X_val, y_val)\n",
    "\n",
    "print(f'Validation loss: {loss:.4f}')\n",
    "print(f'Validation accuracy: {accuracy:.4f}')\n",
    "\n",
    "# Save the model\n",
    "model.save('waldo_wilma_model.h5')"
   ]
  },
  {
   "cell_type": "code",
   "execution_count": null,
   "metadata": {},
   "outputs": [],
   "source": []
  }
 ],
 "metadata": {
  "kernelspec": {
   "display_name": "tf_gpu",
   "language": "python",
   "name": "python3"
  },
  "language_info": {
   "codemirror_mode": {
    "name": "ipython",
    "version": 3
   },
   "file_extension": ".py",
   "mimetype": "text/x-python",
   "name": "python",
   "nbconvert_exporter": "python",
   "pygments_lexer": "ipython3",
   "version": "3.9.16"
  },
  "orig_nbformat": 4
 },
 "nbformat": 4,
 "nbformat_minor": 2
}
